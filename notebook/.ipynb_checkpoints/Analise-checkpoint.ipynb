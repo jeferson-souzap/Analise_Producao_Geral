{
 "cells": [
  {
   "cell_type": "code",
   "execution_count": null,
   "id": "73d9f149",
   "metadata": {},
   "outputs": [],
   "source": [
    "import pandas as pd\n",
    "\n",
    "from utils.simulador_dados import ARQ_VENDAS"
   ]
  },
  {
   "cell_type": "code",
   "execution_count": null,
   "id": "4a4e2643",
   "metadata": {},
   "outputs": [],
   "source": [
    "df_vendas = pd.read_csv(ARQ_VENDAS)"
   ]
  },
  {
   "cell_type": "code",
   "execution_count": null,
   "id": "858f6ffc",
   "metadata": {},
   "outputs": [],
   "source": [
    "df_vendas"
   ]
  }
 ],
 "metadata": {
  "kernelspec": {
   "display_name": "venv",
   "language": "python",
   "name": "python3"
  },
  "language_info": {
   "name": "python",
   "version": "3.11.5"
  }
 },
 "nbformat": 4,
 "nbformat_minor": 5
}
