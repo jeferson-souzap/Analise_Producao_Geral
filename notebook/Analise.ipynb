{
 "cells": [
  {
   "cell_type": "code",
   "execution_count": 24,
   "id": "73d9f149",
   "metadata": {},
   "outputs": [],
   "source": [
    "import pandas as pd\n"
   ]
  },
  {
   "cell_type": "code",
   "execution_count": 25,
   "id": "d169406c-f8f7-439a-ba14-aa4102a1757a",
   "metadata": {},
   "outputs": [],
   "source": [
    "ARQ_VENDAS = r'D:\\#Mega\\Jeferson - Dev\\02 - Linguagens\\Python\\Analise_Producao_Geral\\files\\dados_vendas.csv'"
   ]
  },
  {
   "cell_type": "code",
   "execution_count": 26,
   "id": "4a4e2643",
   "metadata": {},
   "outputs": [],
   "source": [
    "df = pd.read_csv(ARQ_VENDAS)"
   ]
  },
  {
   "cell_type": "code",
   "execution_count": 27,
   "id": "858f6ffc",
   "metadata": {},
   "outputs": [
    {
     "data": {
      "text/html": [
       "<div>\n",
       "<style scoped>\n",
       "    .dataframe tbody tr th:only-of-type {\n",
       "        vertical-align: middle;\n",
       "    }\n",
       "\n",
       "    .dataframe tbody tr th {\n",
       "        vertical-align: top;\n",
       "    }\n",
       "\n",
       "    .dataframe thead th {\n",
       "        text-align: right;\n",
       "    }\n",
       "</style>\n",
       "<table border=\"1\" class=\"dataframe\">\n",
       "  <thead>\n",
       "    <tr style=\"text-align: right;\">\n",
       "      <th></th>\n",
       "      <th>Data</th>\n",
       "      <th>Produto</th>\n",
       "      <th>Cliente</th>\n",
       "      <th>Quantidade_vendida</th>\n",
       "      <th>Preco_unitario</th>\n",
       "      <th>Valor_total</th>\n",
       "    </tr>\n",
       "  </thead>\n",
       "  <tbody>\n",
       "    <tr>\n",
       "      <th>0</th>\n",
       "      <td>2022-01-01</td>\n",
       "      <td>Caneta Azul</td>\n",
       "      <td>Cliente Alfa</td>\n",
       "      <td>104</td>\n",
       "      <td>26.16</td>\n",
       "      <td>2720.64</td>\n",
       "    </tr>\n",
       "    <tr>\n",
       "      <th>1</th>\n",
       "      <td>2022-01-01</td>\n",
       "      <td>Caneta Preta</td>\n",
       "      <td>Cliente Alfa</td>\n",
       "      <td>24</td>\n",
       "      <td>27.94</td>\n",
       "      <td>670.56</td>\n",
       "    </tr>\n",
       "    <tr>\n",
       "      <th>2</th>\n",
       "      <td>2022-01-01</td>\n",
       "      <td>Caneta Preta</td>\n",
       "      <td>Cliente Alfa</td>\n",
       "      <td>30</td>\n",
       "      <td>27.12</td>\n",
       "      <td>813.60</td>\n",
       "    </tr>\n",
       "    <tr>\n",
       "      <th>3</th>\n",
       "      <td>2022-01-01</td>\n",
       "      <td>Caneta Preta</td>\n",
       "      <td>Cliente Alfa</td>\n",
       "      <td>15</td>\n",
       "      <td>32.82</td>\n",
       "      <td>492.30</td>\n",
       "    </tr>\n",
       "    <tr>\n",
       "      <th>4</th>\n",
       "      <td>2022-01-01</td>\n",
       "      <td>Caneta Vermelha</td>\n",
       "      <td>Cliente Gama</td>\n",
       "      <td>55</td>\n",
       "      <td>18.73</td>\n",
       "      <td>1030.15</td>\n",
       "    </tr>\n",
       "    <tr>\n",
       "      <th>...</th>\n",
       "      <td>...</td>\n",
       "      <td>...</td>\n",
       "      <td>...</td>\n",
       "      <td>...</td>\n",
       "      <td>...</td>\n",
       "      <td>...</td>\n",
       "    </tr>\n",
       "    <tr>\n",
       "      <th>13491</th>\n",
       "      <td>2024-12-30</td>\n",
       "      <td>Caneta Verde</td>\n",
       "      <td>Cliente Delta</td>\n",
       "      <td>55</td>\n",
       "      <td>16.96</td>\n",
       "      <td>932.80</td>\n",
       "    </tr>\n",
       "    <tr>\n",
       "      <th>13492</th>\n",
       "      <td>2024-12-30</td>\n",
       "      <td>Caneta Amarela</td>\n",
       "      <td>Cliente Épsilon</td>\n",
       "      <td>1</td>\n",
       "      <td>14.16</td>\n",
       "      <td>14.16</td>\n",
       "    </tr>\n",
       "    <tr>\n",
       "      <th>13493</th>\n",
       "      <td>2024-12-30</td>\n",
       "      <td>Caneta Amarela</td>\n",
       "      <td>Cliente Ômega</td>\n",
       "      <td>1</td>\n",
       "      <td>15.50</td>\n",
       "      <td>15.50</td>\n",
       "    </tr>\n",
       "    <tr>\n",
       "      <th>13494</th>\n",
       "      <td>2024-12-30</td>\n",
       "      <td>Caneta Amarela</td>\n",
       "      <td>Cliente Ômega</td>\n",
       "      <td>5</td>\n",
       "      <td>15.00</td>\n",
       "      <td>75.00</td>\n",
       "    </tr>\n",
       "    <tr>\n",
       "      <th>13495</th>\n",
       "      <td>2024-12-30</td>\n",
       "      <td>Caneta Amarela</td>\n",
       "      <td>Cliente Épsilon</td>\n",
       "      <td>4</td>\n",
       "      <td>15.02</td>\n",
       "      <td>60.08</td>\n",
       "    </tr>\n",
       "  </tbody>\n",
       "</table>\n",
       "<p>13496 rows × 6 columns</p>\n",
       "</div>"
      ],
      "text/plain": [
       "             Data          Produto          Cliente  Quantidade_vendida  \\\n",
       "0      2022-01-01      Caneta Azul     Cliente Alfa                 104   \n",
       "1      2022-01-01     Caneta Preta     Cliente Alfa                  24   \n",
       "2      2022-01-01     Caneta Preta     Cliente Alfa                  30   \n",
       "3      2022-01-01     Caneta Preta     Cliente Alfa                  15   \n",
       "4      2022-01-01  Caneta Vermelha     Cliente Gama                  55   \n",
       "...           ...              ...              ...                 ...   \n",
       "13491  2024-12-30     Caneta Verde    Cliente Delta                  55   \n",
       "13492  2024-12-30   Caneta Amarela  Cliente Épsilon                   1   \n",
       "13493  2024-12-30   Caneta Amarela    Cliente Ômega                   1   \n",
       "13494  2024-12-30   Caneta Amarela    Cliente Ômega                   5   \n",
       "13495  2024-12-30   Caneta Amarela  Cliente Épsilon                   4   \n",
       "\n",
       "       Preco_unitario  Valor_total  \n",
       "0               26.16      2720.64  \n",
       "1               27.94       670.56  \n",
       "2               27.12       813.60  \n",
       "3               32.82       492.30  \n",
       "4               18.73      1030.15  \n",
       "...               ...          ...  \n",
       "13491           16.96       932.80  \n",
       "13492           14.16        14.16  \n",
       "13493           15.50        15.50  \n",
       "13494           15.00        75.00  \n",
       "13495           15.02        60.08  \n",
       "\n",
       "[13496 rows x 6 columns]"
      ]
     },
     "execution_count": 27,
     "metadata": {},
     "output_type": "execute_result"
    }
   ],
   "source": [
    "df"
   ]
  },
  {
   "cell_type": "code",
   "execution_count": 28,
   "id": "cbb17591-21fa-4771-be3d-f902f1116d7e",
   "metadata": {},
   "outputs": [
    {
     "name": "stdout",
     "output_type": "stream",
     "text": [
      "<class 'pandas.core.frame.DataFrame'>\n",
      "RangeIndex: 13496 entries, 0 to 13495\n",
      "Data columns (total 6 columns):\n",
      " #   Column              Non-Null Count  Dtype  \n",
      "---  ------              --------------  -----  \n",
      " 0   Data                13496 non-null  object \n",
      " 1   Produto             13496 non-null  object \n",
      " 2   Cliente             13496 non-null  object \n",
      " 3   Quantidade_vendida  13496 non-null  int64  \n",
      " 4   Preco_unitario      13496 non-null  float64\n",
      " 5   Valor_total         13496 non-null  float64\n",
      "dtypes: float64(2), int64(1), object(3)\n",
      "memory usage: 632.8+ KB\n"
     ]
    }
   ],
   "source": [
    "df.info()"
   ]
  },
  {
   "cell_type": "code",
   "execution_count": 29,
   "id": "2512264b-b3f7-42b6-9fc9-cecbb30cf93b",
   "metadata": {},
   "outputs": [],
   "source": [
    "df['Data'] = pd.to_datetime(df['Data'])"
   ]
  },
  {
   "cell_type": "code",
   "execution_count": 30,
   "id": "715ec3a8-d3f7-45ed-bdb2-c975a3f159e2",
   "metadata": {},
   "outputs": [],
   "source": [
    "df_filtrado = df[(df['Data'].dt.year == 2025) & (df['Data'].dt.month == 1)]"
   ]
  },
  {
   "cell_type": "code",
   "execution_count": 31,
   "id": "48ed9f66-e8b8-47a4-91d0-0d2bdbb98564",
   "metadata": {},
   "outputs": [
    {
     "data": {
      "text/html": [
       "<div>\n",
       "<style scoped>\n",
       "    .dataframe tbody tr th:only-of-type {\n",
       "        vertical-align: middle;\n",
       "    }\n",
       "\n",
       "    .dataframe tbody tr th {\n",
       "        vertical-align: top;\n",
       "    }\n",
       "\n",
       "    .dataframe thead th {\n",
       "        text-align: right;\n",
       "    }\n",
       "</style>\n",
       "<table border=\"1\" class=\"dataframe\">\n",
       "  <thead>\n",
       "    <tr style=\"text-align: right;\">\n",
       "      <th></th>\n",
       "      <th>Data</th>\n",
       "      <th>Produto</th>\n",
       "      <th>Cliente</th>\n",
       "      <th>Quantidade_vendida</th>\n",
       "      <th>Preco_unitario</th>\n",
       "      <th>Valor_total</th>\n",
       "    </tr>\n",
       "  </thead>\n",
       "  <tbody>\n",
       "  </tbody>\n",
       "</table>\n",
       "</div>"
      ],
      "text/plain": [
       "Empty DataFrame\n",
       "Columns: [Data, Produto, Cliente, Quantidade_vendida, Preco_unitario, Valor_total]\n",
       "Index: []"
      ]
     },
     "execution_count": 31,
     "metadata": {},
     "output_type": "execute_result"
    }
   ],
   "source": [
    "df_filtrado"
   ]
  },
  {
   "cell_type": "code",
   "execution_count": 32,
   "id": "e058c3e5-20b4-4e86-b9fa-edfc633a2aa1",
   "metadata": {},
   "outputs": [],
   "source": [
    "df_total_venda = df['Valor_total'].count()"
   ]
  },
  {
   "cell_type": "code",
   "execution_count": 33,
   "id": "e77e47ed-8eb3-4010-b95e-fae731529acc",
   "metadata": {},
   "outputs": [
    {
     "data": {
      "text/plain": [
       "13496"
      ]
     },
     "execution_count": 33,
     "metadata": {},
     "output_type": "execute_result"
    }
   ],
   "source": [
    "df_total_venda"
   ]
  },
  {
   "cell_type": "code",
   "execution_count": 34,
   "id": "87b8d67a-4399-477c-9824-f0c76550c6bc",
   "metadata": {},
   "outputs": [
    {
     "name": "stdout",
     "output_type": "stream",
     "text": [
      "<class 'pandas.core.frame.DataFrame'>\n",
      "RangeIndex: 13496 entries, 0 to 13495\n",
      "Data columns (total 6 columns):\n",
      " #   Column              Non-Null Count  Dtype         \n",
      "---  ------              --------------  -----         \n",
      " 0   Data                13496 non-null  datetime64[ns]\n",
      " 1   Produto             13496 non-null  object        \n",
      " 2   Cliente             13496 non-null  object        \n",
      " 3   Quantidade_vendida  13496 non-null  int64         \n",
      " 4   Preco_unitario      13496 non-null  float64       \n",
      " 5   Valor_total         13496 non-null  float64       \n",
      "dtypes: datetime64[ns](1), float64(2), int64(1), object(2)\n",
      "memory usage: 632.8+ KB\n"
     ]
    }
   ],
   "source": [
    "df.info()"
   ]
  },
  {
   "cell_type": "code",
   "execution_count": 38,
   "id": "a3494c63-5938-45f5-a560-d695f4c163b1",
   "metadata": {},
   "outputs": [],
   "source": [
    "ticket = df.groupby('Cliente')['Valor_total'].sum().rank()\n",
    "produto = df.groupby('Produto')['Quantidade_vendida'].sum().rank()"
   ]
  },
  {
   "cell_type": "code",
   "execution_count": 39,
   "id": "d91e3348-4ce0-49a5-bdd1-b0a5b2109fb0",
   "metadata": {},
   "outputs": [
    {
     "data": {
      "text/plain": [
       "Produto\n",
       "Caneta Amarela     1.0\n",
       "Caneta Azul        5.0\n",
       "Caneta Preta       4.0\n",
       "Caneta Verde       2.0\n",
       "Caneta Vermelha    3.0\n",
       "Name: Quantidade_vendida, dtype: float64"
      ]
     },
     "execution_count": 39,
     "metadata": {},
     "output_type": "execute_result"
    }
   ],
   "source": [
    "produto"
   ]
  }
 ],
 "metadata": {
  "kernelspec": {
   "display_name": "Python 3 (ipykernel)",
   "language": "python",
   "name": "python3"
  },
  "language_info": {
   "codemirror_mode": {
    "name": "ipython",
    "version": 3
   },
   "file_extension": ".py",
   "mimetype": "text/x-python",
   "name": "python",
   "nbconvert_exporter": "python",
   "pygments_lexer": "ipython3",
   "version": "3.11.9"
  }
 },
 "nbformat": 4,
 "nbformat_minor": 5
}
